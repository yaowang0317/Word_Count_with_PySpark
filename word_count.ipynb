{
 "cells": [
  {
   "cell_type": "code",
   "execution_count": 1,
   "metadata": {},
   "outputs": [],
   "source": [
    "#Download the file from http://hadoop.apache.org/docs/stable/hadoop-streaming/HadoopStreaming.html to local directory\n",
    "file_path=\"<YOUR DOWNLOADED FILE PATH>\"\n",
    "file_output_path = \"<YOUR OUTPUT RESULT FILE PATH>\""
   ]
  },
  {
   "cell_type": "code",
   "execution_count": 2,
   "metadata": {},
   "outputs": [],
   "source": [
    "from pyspark import SparkContext\n",
    "sc = SparkContext(\"local[*]\",\"temp\")"
   ]
  },
  {
   "cell_type": "code",
   "execution_count": 3,
   "metadata": {},
   "outputs": [],
   "source": [
    "lines=sc.textFile(file_path)"
   ]
  },
  {
   "cell_type": "code",
   "execution_count": 5,
   "metadata": {},
   "outputs": [],
   "source": [
    "lines.filter(lambda line:\"BG: \" in line)\\\n",
    ".flatMap(lambda line:line.split(\" \")) \\\n",
    ".map(lambda word:(word.lower(),1)) \\\n",
    ".reduceByKey(lambda x,y : x+y) \\\n",
    ".sortByKey()\\\n",
    ".saveAsTextFile(file_output_path)\n"
   ]
  },
  {
   "cell_type": "code",
   "execution_count": null,
   "metadata": {},
   "outputs": [],
   "source": [
    "#Check the result. The file path should be within the output file directory.\n",
    "filename = \"<YOUR RESULT PATH>\"\n",
    "for line in open(filename, 'r'):\n",
    "    print(line)"
   ]
  }
 ],
 "metadata": {
  "kernelspec": {
   "display_name": "Python 3",
   "language": "python",
   "name": "python3"
  },
  "language_info": {
   "codemirror_mode": {
    "name": "ipython",
    "version": 3
   },
   "file_extension": ".py",
   "mimetype": "text/x-python",
   "name": "python",
   "nbconvert_exporter": "python",
   "pygments_lexer": "ipython3",
   "version": "3.7.6"
  }
 },
 "nbformat": 4,
 "nbformat_minor": 4
}
